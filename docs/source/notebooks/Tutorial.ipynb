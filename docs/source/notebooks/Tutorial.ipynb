{
 "cells": [
  {
   "cell_type": "markdown",
   "id": "71039d4d",
   "metadata": {},
   "source": [
    "## FastRNA tutorial\n",
    "\n",
    "This notebook gives an example on how to use FastRNA for single-cell RNA sequencing data.\n",
    "The data used in this tutorial can be found in the package [github repo](https://github.com/hanbin973/FastRNA/tree/main/docs/source/notebooks/datasets).\n",
    "The original data can be found [here](https://singlecell.broadinstitute.org/single_cell/study/SCP424/single-cell-comparison-pbmc-data).\n",
    "\n"
   ]
  },
  {
   "cell_type": "code",
   "execution_count": 1,
   "id": "f5e67b13",
   "metadata": {},
   "outputs": [],
   "source": [
    "# import basic libraries\n",
    "import numpy as np\n",
    "import pandas as pd\n",
    "import scipy.io as io\n",
    "\n",
    "from fastrna.core import fastrna_hvg, fastrna_pca"
   ]
  },
  {
   "cell_type": "markdown",
   "id": "744a2d2d",
   "metadata": {},
   "source": [
    "First, load the data matrix.\n",
    "This data should be in CSC format with `float32` datatype.\n",
    "`tocsc()` converts the data to csc formant and `astype(np.float32)` converts the data to `float32`."
   ]
  },
  {
   "cell_type": "code",
   "execution_count": 2,
   "id": "d4d9207a",
   "metadata": {},
   "outputs": [
    {
     "data": {
      "text/plain": [
       "(33694, 9806)"
      ]
     },
     "execution_count": 2,
     "metadata": {},
     "output_type": "execute_result"
    }
   ],
   "source": [
    "mtx = io.mmread('datasets/mat.mtx').tocsc().astype(np.float32)\n",
    "mtx.shape"
   ]
  },
  {
   "cell_type": "markdown",
   "id": "1b0581dc",
   "metadata": {},
   "source": [
    "The following code loads the metadata."
   ]
  },
  {
   "cell_type": "code",
   "execution_count": 3,
   "id": "a6134184",
   "metadata": {},
   "outputs": [
    {
     "data": {
      "text/html": [
       "<div>\n",
       "<style scoped>\n",
       "    .dataframe tbody tr th:only-of-type {\n",
       "        vertical-align: middle;\n",
       "    }\n",
       "\n",
       "    .dataframe tbody tr th {\n",
       "        vertical-align: top;\n",
       "    }\n",
       "\n",
       "    .dataframe thead th {\n",
       "        text-align: right;\n",
       "    }\n",
       "</style>\n",
       "<table border=\"1\" class=\"dataframe\">\n",
       "  <thead>\n",
       "    <tr style=\"text-align: right;\">\n",
       "      <th></th>\n",
       "      <th>nGene</th>\n",
       "      <th>nUMI</th>\n",
       "      <th>percent.mito</th>\n",
       "      <th>Cluster</th>\n",
       "      <th>CellType</th>\n",
       "      <th>Experiment</th>\n",
       "      <th>Method</th>\n",
       "    </tr>\n",
       "  </thead>\n",
       "  <tbody>\n",
       "    <tr>\n",
       "      <th>pbmc1_10x_v2_A_AAAGATGCAAAGTCAA</th>\n",
       "      <td>851</td>\n",
       "      <td>2177</td>\n",
       "      <td>0.038126</td>\n",
       "      <td>5</td>\n",
       "      <td>CD14+ monocyte</td>\n",
       "      <td>pbmc1</td>\n",
       "      <td>10x Chromium (v2) A</td>\n",
       "    </tr>\n",
       "    <tr>\n",
       "      <th>pbmc1_10x_v2_A_AAAGCAAGTAGGAGTC</th>\n",
       "      <td>1078</td>\n",
       "      <td>3065</td>\n",
       "      <td>0.041762</td>\n",
       "      <td>5</td>\n",
       "      <td>CD14+ monocyte</td>\n",
       "      <td>pbmc1</td>\n",
       "      <td>10x Chromium (v2) A</td>\n",
       "    </tr>\n",
       "    <tr>\n",
       "      <th>pbmc1_10x_v2_A_AAAGCAATCGGTTCGG</th>\n",
       "      <td>538</td>\n",
       "      <td>977</td>\n",
       "      <td>0.099284</td>\n",
       "      <td>4</td>\n",
       "      <td>CD14+ monocyte</td>\n",
       "      <td>pbmc1</td>\n",
       "      <td>10x Chromium (v2) A</td>\n",
       "    </tr>\n",
       "    <tr>\n",
       "      <th>pbmc1_10x_v2_A_AAAGTAGTCATTTGGG</th>\n",
       "      <td>1544</td>\n",
       "      <td>4933</td>\n",
       "      <td>0.042773</td>\n",
       "      <td>5</td>\n",
       "      <td>CD14+ monocyte</td>\n",
       "      <td>pbmc1</td>\n",
       "      <td>10x Chromium (v2) A</td>\n",
       "    </tr>\n",
       "    <tr>\n",
       "      <th>pbmc1_10x_v2_A_AAAGTAGTCCGAGCCA</th>\n",
       "      <td>632</td>\n",
       "      <td>1487</td>\n",
       "      <td>0.047747</td>\n",
       "      <td>4</td>\n",
       "      <td>CD14+ monocyte</td>\n",
       "      <td>pbmc1</td>\n",
       "      <td>10x Chromium (v2) A</td>\n",
       "    </tr>\n",
       "  </tbody>\n",
       "</table>\n",
       "</div>"
      ],
      "text/plain": [
       "                                 nGene  nUMI  percent.mito  Cluster  \\\n",
       "pbmc1_10x_v2_A_AAAGATGCAAAGTCAA    851  2177      0.038126        5   \n",
       "pbmc1_10x_v2_A_AAAGCAAGTAGGAGTC   1078  3065      0.041762        5   \n",
       "pbmc1_10x_v2_A_AAAGCAATCGGTTCGG    538   977      0.099284        4   \n",
       "pbmc1_10x_v2_A_AAAGTAGTCATTTGGG   1544  4933      0.042773        5   \n",
       "pbmc1_10x_v2_A_AAAGTAGTCCGAGCCA    632  1487      0.047747        4   \n",
       "\n",
       "                                       CellType Experiment  \\\n",
       "pbmc1_10x_v2_A_AAAGATGCAAAGTCAA  CD14+ monocyte      pbmc1   \n",
       "pbmc1_10x_v2_A_AAAGCAAGTAGGAGTC  CD14+ monocyte      pbmc1   \n",
       "pbmc1_10x_v2_A_AAAGCAATCGGTTCGG  CD14+ monocyte      pbmc1   \n",
       "pbmc1_10x_v2_A_AAAGTAGTCATTTGGG  CD14+ monocyte      pbmc1   \n",
       "pbmc1_10x_v2_A_AAAGTAGTCCGAGCCA  CD14+ monocyte      pbmc1   \n",
       "\n",
       "                                              Method  \n",
       "pbmc1_10x_v2_A_AAAGATGCAAAGTCAA  10x Chromium (v2) A  \n",
       "pbmc1_10x_v2_A_AAAGCAAGTAGGAGTC  10x Chromium (v2) A  \n",
       "pbmc1_10x_v2_A_AAAGCAATCGGTTCGG  10x Chromium (v2) A  \n",
       "pbmc1_10x_v2_A_AAAGTAGTCATTTGGG  10x Chromium (v2) A  \n",
       "pbmc1_10x_v2_A_AAAGTAGTCCGAGCCA  10x Chromium (v2) A  "
      ]
     },
     "execution_count": 3,
     "metadata": {},
     "output_type": "execute_result"
    }
   ],
   "source": [
    "meta = pd.read_csv('datasets/meta.csv', index_col=0)\n",
    "meta.head() # Method coloumn contains the batch label"
   ]
  },
  {
   "cell_type": "markdown",
   "id": "fdf451cd",
   "metadata": {},
   "source": [
    "Indexing is an essential component in data processing.\n",
    "The computational cost of indexing is relatively small when the data is small but grow significantly when the data is large.\n",
    "This is especially important for sparse matrices becaue of its special structure.\n",
    "Since FastRNA utilizes this specialized structure for efficient indexing of data, it requires reordering of data before analysis.\n",
    "\n",
    "FastRNA input matrix should be ordered according to its batch label prior to analysis."
   ]
  },
  {
   "cell_type": "code",
   "execution_count": 4,
   "id": "1dccee38",
   "metadata": {},
   "outputs": [
    {
     "data": {
      "text/plain": [
       "array([0, 0, 0, ..., 2, 2, 2])"
      ]
     },
     "execution_count": 4,
     "metadata": {},
     "output_type": "execute_result"
    }
   ],
   "source": [
    "batch_label = pd.factorize(meta[\"Method\"])[0] # change the column name (Method) if required,\n",
    "batch_label # the above line converts the batch label into an integer"
   ]
  },
  {
   "cell_type": "code",
   "execution_count": 5,
   "id": "81a566e4",
   "metadata": {},
   "outputs": [],
   "source": [
    "idx_sort = batch_label.argsort() # sort the index of batch_label in an ascending order\n",
    "batch_label_sort = batch_label[idx_sort] # sort batch label\n",
    "meta_sort = meta.iloc[idx_sort,:] # sort metadata\n",
    "mtx_sort = mtx[:,idx_sort] # sort count matrix"
   ]
  },
  {
   "cell_type": "markdown",
   "id": "f88ad46f",
   "metadata": {},
   "source": [
    "Now, we can perform feature selection.\n",
    "`fastrna_hvg` calculates the normalized variance of the genes."
   ]
  },
  {
   "cell_type": "code",
   "execution_count": 6,
   "id": "1b459117",
   "metadata": {},
   "outputs": [
    {
     "name": "stdout",
     "output_type": "stream",
     "text": [
      "CPU times: user 2.86 s, sys: 184 ms, total: 3.05 s\n",
      "Wall time: 111 ms\n"
     ]
    }
   ],
   "source": [
    "%time gene_vars = fastrna_hvg(mtx_sort, batch_label_sort)"
   ]
  },
  {
   "cell_type": "markdown",
   "id": "728a21c1",
   "metadata": {},
   "source": [
    "Normalized gene variance can be used for feature selection.\n",
    "We order the genes according to their normalized variances in a descending order."
   ]
  },
  {
   "cell_type": "code",
   "execution_count": 7,
   "id": "3ce03171",
   "metadata": {},
   "outputs": [
    {
     "name": "stdout",
     "output_type": "stream",
     "text": [
      "CPU times: user 1min 3s, sys: 19 s, total: 1min 22s\n",
      "Wall time: 1.89 s\n"
     ]
    }
   ],
   "source": [
    "gene_idx_var = gene_vars.argsort()[::-1]\n",
    "mtx_hvg = mtx_sort[gene_idx_var[:3000],:] # select 3000 features\n",
    "mtx_hvg.sort_indices() # sort indices after gene selection, required due to sparse matrix structure\n",
    "numi = np.asarray(mtx_sort.sum(axis=0)).ravel() # calculate size factor\n",
    "%time eig_val, eig_vec, pca, rrt = fastrna_pca(mtx_hvg, numi, batch_label_sort)"
   ]
  },
  {
   "cell_type": "markdown",
   "id": "52b5b470",
   "metadata": {},
   "source": [
    "`pca` contains the principal components of the cells."
   ]
  },
  {
   "cell_type": "code",
   "execution_count": 8,
   "id": "05e63940",
   "metadata": {},
   "outputs": [
    {
     "data": {
      "text/plain": [
       "((9806, 50),\n",
       " array([[ -6.155175  , -32.147507  ,   1.9936739 , ...,  -0.53302026,\n",
       "           0.14496931,  -0.11947128],\n",
       "        [ -3.995697  , -16.785759  ,  -0.29182994, ...,  -0.37005997,\n",
       "           0.338378  ,  -0.34952265],\n",
       "        [-10.0068655 , -36.92015   ,  -1.3498954 , ...,   0.9612558 ,\n",
       "          -0.42493236,  -0.29161602],\n",
       "        ...,\n",
       "        [-11.459299  , -57.605152  ,  -0.71217346, ...,   1.446156  ,\n",
       "          -1.0820694 ,  -1.338346  ],\n",
       "        [  1.5810945 ,   3.308975  ,   1.6145313 , ...,  -0.2889882 ,\n",
       "           0.3467002 ,   0.14786568],\n",
       "        [ -0.54217005,   6.396435  , -17.914013  , ...,  -0.28510135,\n",
       "          -1.4869949 ,  -0.18762672]], dtype=float32))"
      ]
     },
     "execution_count": 8,
     "metadata": {},
     "output_type": "execute_result"
    }
   ],
   "source": [
    "pca.shape, pca"
   ]
  }
 ],
 "metadata": {
  "kernelspec": {
   "display_name": "Python 3 (ipykernel)",
   "language": "python",
   "name": "python3"
  },
  "language_info": {
   "codemirror_mode": {
    "name": "ipython",
    "version": 3
   },
   "file_extension": ".py",
   "mimetype": "text/x-python",
   "name": "python",
   "nbconvert_exporter": "python",
   "pygments_lexer": "ipython3",
   "version": "3.9.12"
  }
 },
 "nbformat": 4,
 "nbformat_minor": 5
}
